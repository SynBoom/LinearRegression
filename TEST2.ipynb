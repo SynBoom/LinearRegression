{
 "cells": [
  {
   "cell_type": "markdown",
   "id": "abea0b4a",
   "metadata": {},
   "source": [
    "# Một số lưu ý khi dùng tham khảo.\n",
    "### 1. Dữ liệu chỉ cần dưới định dạng: date | open | high | low | close. Không phân biệt thị trường chứng khoán hay crypto miễn là có file csv. Người xem có thể tự download dữ liệu trên các trang mạng về.\n",
    "### 2. Bản báo cáo này chưa được tối ưu do chưa có chức năng tự động update giá. => chưa thể tự cập nhập dự đoán."
   ]
  },
  {
   "cell_type": "code",
   "execution_count": 69,
   "id": "778a631b",
   "metadata": {},
   "outputs": [],
   "source": [
    "import btalib\n",
    "import pandas as pd\n",
    "import statsmodels.api as sm\n",
    "import matplotlib.pyplot as plt\n",
    "import numpy as np\n",
    "from sklearn import linear_model"
   ]
  },
  {
   "cell_type": "code",
   "execution_count": 70,
   "id": "9ce0e94c",
   "metadata": {},
   "outputs": [],
   "source": [
    "# load DataFrame\n",
    "btc_df = pd.read_csv('btc_bars4.csv', index_col=0)\n",
    "btc_df.index = pd.to_datetime(btc_df.index, unit='ms')"
   ]
  },
  {
   "cell_type": "markdown",
   "id": "fc286289",
   "metadata": {},
   "source": [
    "## 1. SMA\n",
    "Non-weighted average of the last n periods\n",
    "\n",
    "Formula:\n",
    "  - movav = Sum(data, period) / period\n",
    "\n",
    "See also:\n",
    "  - http://en.wikipedia.org/wiki/Moving_average#Simple_moving_average\n",
    "\n",
    "\n",
    "Aliases: SMA, SimpleMovingAverage\n",
    "\n",
    "Inputs: close\n",
    "\n",
    "Outputs: sma\n",
    "\n",
    "Params:\n",
    "  - period (default: 30)\n",
    "    Period for the moving average calculation"
   ]
  },
  {
   "cell_type": "code",
   "execution_count": 71,
   "id": "dd734597",
   "metadata": {},
   "outputs": [],
   "source": [
    "sma = btalib.sma(btc_df.close)"
   ]
  },
  {
   "cell_type": "markdown",
   "id": "5509a770",
   "metadata": {},
   "source": [
    "## 2. RSI\n",
    "Defined by J. Welles Wilder, Jr. in 1978 in his book *\"New Concepts in\n",
    "Technical Trading Systems\"*.\n",
    "\n",
    "It measures momentum by calculating the ration of higher closes and\n",
    "lower closes after having been smoothed by an average, normalizing\n",
    "the result between 0 and 100\n",
    "\n",
    "Formula:\n",
    "  - up = upday(data)  # max(close - close(-1), 0.0)\n",
    "  - down = downday(data)  # abs( min(close - close(-1), 0.0) )\n",
    "  - maup = movingaverage(up, period)\n",
    "  - madown = movingaverage(down, period)\n",
    "  - rs = maup / madown\n",
    "  - rsi = 100 - 100 / (1 + rs)\n",
    "\n",
    "The moving average used is the one originally defined by Wilder,\n",
    "the SmoothedMovingAverage\n",
    "\n",
    "See:\n",
    "  - http://en.wikipedia.org/wiki/Relative_strength_index\n",
    "\n",
    "\n",
    "Aliases: RSI, RelativeStrengthIndex\n",
    "\n",
    "Inputs: close\n",
    "\n",
    "Outputs: rsi\n",
    "\n",
    "Params:\n",
    "  - period (default: 14)\n",
    "    Period to consider\n",
    "  - lookback (default: 1)\n",
    "    Lookback for up/down days\n",
    "  - _ma (default: smma)\n",
    "    Smoothing moving average"
   ]
  },
  {
   "cell_type": "code",
   "execution_count": 72,
   "id": "87173cf3",
   "metadata": {},
   "outputs": [],
   "source": [
    "rsi = btalib.rsi(btc_df, period=14)"
   ]
  },
  {
   "cell_type": "markdown",
   "id": "eff6f4df",
   "metadata": {},
   "source": [
    "## 3. Stoch RSI\n",
    "Presented by Chande and Kroll the 1990 book: \"The New Technical Trader\".\n",
    "The RSI is fed into a atochastic-like calculation to increase its\n",
    "sensitivity.\n",
    "\n",
    "The recommendation is to keep the period for looking for highest highes and\n",
    "lowest lows the same as the for the RSI, but it can be played with for\n",
    "experimentation.\n",
    "\n",
    "Scaling to 100 is also suggested as a possiblity (the range is 0.0 => 1.0)\n",
    "\n",
    "Formula:\n",
    "\n",
    "  - rsi = RSI(data, period)\n",
    "  - maxrsi = Highest(rsi, period)\n",
    "  - minrsi = Lowest(rsi, period)\n",
    "\n",
    "  - stochrsi = (rsi - minrsi) / (maxrsi - minrsi)\n",
    "\n",
    "See\n",
    "  - https://school.stockcharts.com/doku.php?id=technical_indicators:stochrsi\n",
    "\n",
    "\n",
    "Aliases: StochRsi, STOCHRSI\n",
    "\n",
    "Inputs: close\n",
    "\n",
    "Outputs: stochrsi\n",
    "\n",
    "Params:\n",
    "  - period (default: 14)\n",
    "    Period to consider\n",
    "  - _philo (default: None)\n",
    "    Period for highest/lowest (None => period)\n",
    "  - _scale (default: 1.0)\n",
    "    Scale the result by this factor\n",
    "\n",
    "TA-LIB (with compatibility flag \"_talib=True\"):\n",
    "\n",
    "\n",
    "ta-lib uses internally the fast stochastic to calculate the stochrsi,\n",
    "with these side-effects\n",
    "\n",
    "  - The scale changes from 0.0-1.0 to 0.0-100.0\n",
    "\n",
    "  - A 2nd output is returned (stochrsi as defined by its authors has\n",
    "    only 1 output)\n",
    "\n",
    "  - The highest/lowest period is no longer symmetric with the rsi\n",
    "    period\n",
    "\n",
    "Compatibility does this\n",
    "  - Change the scale to 0.0-100.0\n",
    "  - Change the highest/lowest period 5\n",
    "  - Add a 2nd output named 'd' (as the 2nd output of the stochastic)\n",
    "  - Run a simple moving average on it of period 3"
   ]
  },
  {
   "cell_type": "code",
   "execution_count": 73,
   "id": "b3f5c452",
   "metadata": {},
   "outputs": [],
   "source": [
    "stochrsi = btalib.stochrsi(btc_df, period=14)"
   ]
  },
  {
   "cell_type": "markdown",
   "id": "38b07a32",
   "metadata": {},
   "source": [
    "## 4. CCI\n",
    "Introduced by Donald Lambert in 1980 to measure variations of the\n",
    "\"typical price\" (see below) from its mean to identify extremes and\n",
    "reversals\n",
    "\n",
    "Formula:\n",
    "  - tp = typical_price = (high + low + close) / 3\n",
    "  - tpmean = MovingAverage(tp, period)\n",
    "  - deviation = tp - tpmean\n",
    "  - meandev = MeanDeviation(tp)\n",
    "  - cci = deviation / (meandeviation * factor)\n",
    "\n",
    "See:\n",
    "  - https://en.wikipedia.org/wiki/Commodity_channel_index\n",
    "\n",
    "\n",
    "Aliases: CCI, CommodityChannelIndex\n",
    "\n",
    "Inputs: high, low, close\n",
    "\n",
    "Outputs: cci\n",
    "\n",
    "Params:\n",
    "  - period (default: 20)\n",
    "    Period to consider\n",
    "  - factor (default: 0.015)\n",
    "    Channel width factor\n",
    "  - _ma (default: sma)\n",
    "    Moving Average to sue\n",
    "  - _dev (default: mad)\n",
    "    Deviation to use (Def: Mean Abs Dev)\n",
    "\n",
    "TA-LIB (with compatibility flag \"_talib=True\"):\n",
    "\n",
    "Change period to 14"
   ]
  },
  {
   "cell_type": "code",
   "execution_count": 74,
   "id": "02f5ad88",
   "metadata": {},
   "outputs": [],
   "source": [
    "cci = btalib.cci(btc_df, period = 20, factor = 0.015)"
   ]
  },
  {
   "cell_type": "markdown",
   "id": "3355d9a1",
   "metadata": {},
   "source": [
    "## 5. Parabol SAR\n",
    "Defined by J. Welles Wilder, Jr. in 1978 in his book *\"New Concepts in\n",
    "Technical Trading Systems\"* for the RSI\n",
    "\n",
    "SAR stands for *Stop and Reverse* and the indicator was meant as a signal\n",
    "for entry (and reverse)\n",
    "\n",
    "How to select the 1st signal is left unspecified in the book. Because the\n",
    "inputs are \"high\" and \"low\", a 1-bar MinusDM is calculated, which accounts\n",
    "for both downmove and upmove of high/low. This is also done by ta-lib\n",
    "\n",
    "See:\n",
    "  - https://en.wikipedia.org/wiki/Parabolic_SAR\n",
    "  - http://stockcharts.com/school/doku.php?id=chart_school:technical_indicators:parabolic_sar\n",
    "\n",
    "\n",
    "Aliases: SAR, psar, ParabolicStopAndReverse\n",
    "\n",
    "Inputs: high, low\n",
    "\n",
    "Outputs: sar\n",
    "\n",
    "Params:\n",
    "  - af (default: 0.02)\n",
    "    Acceleration Factor\n",
    "  - afmax (default: 0.2)\n",
    "    Maximum Acceleration Factor"
   ]
  },
  {
   "cell_type": "code",
   "execution_count": 75,
   "id": "3ee87e80",
   "metadata": {},
   "outputs": [],
   "source": [
    "sar = btalib.sar(btc_df)"
   ]
  },
  {
   "cell_type": "markdown",
   "id": "ede6b996",
   "metadata": {},
   "source": [
    "## 6. MACD\n",
    "Moving Average Convergence Divergence. Defined by Gerald Appel in the 70s.\n",
    "\n",
    "It measures the distance of a fast and a slow moving average to try to\n",
    "identify the trend.\n",
    "\n",
    "A second lagging moving average over the convergence-divergence should\n",
    "provide a \"signal\" upon being crossed by the macd\n",
    "\n",
    "Formula:\n",
    "  - macd = ma(data, pfast) - ma(data, pslow)\n",
    "  - signal = ma(macd, psignal)\n",
    "  - histogram = macd - signal\n",
    "\n",
    "See:\n",
    "  - http://en.wikipedia.org/wiki/MACD\n",
    "\n",
    "\n",
    "Aliases: MACD, MovingAverageConvergenceDivergence, MACDEXT, MACDFIX\n",
    "\n",
    "Inputs: close\n",
    "\n",
    "Outputs: macd, signal, histogram\n",
    "\n",
    "Params:\n",
    "  - pfast (default: 12)\n",
    "    Fast moving average period\n",
    "  - pslow (default: 26)\n",
    "    Slow moving average period\n",
    "  - psignal (default: 9)\n",
    "    Signal smoothing period\n",
    "  - _ma (default: ema)\n",
    "    Moving average to use\n",
    "  - _masig (default: None)\n",
    "    Signal moving average (if `None`, same as others)\n",
    "\n",
    "TA-LIB (with compatibility flag \"_talib=True\"):\n",
    "\n",
    "Start fast ema calc delivery at the offset of the slow ema"
   ]
  },
  {
   "cell_type": "code",
   "execution_count": 76,
   "id": "c986ade3",
   "metadata": {},
   "outputs": [],
   "source": [
    "macd = btalib.macd(btc_df, pfast=20, pslow=50, psignal=13)"
   ]
  },
  {
   "cell_type": "code",
   "execution_count": null,
   "id": "06c2da5c",
   "metadata": {},
   "outputs": [],
   "source": []
  },
  {
   "cell_type": "code",
   "execution_count": 77,
   "id": "ffa04b3c",
   "metadata": {},
   "outputs": [],
   "source": [
    "# join the rsi and macd calculations as columns in original df\n",
    "btc_df = btc_df.join([sma.df ,rsi.df,stochrsi.df, cci.df, sar.df, macd.df])\n"
   ]
  },
  {
   "cell_type": "code",
   "execution_count": 78,
   "id": "732b7672",
   "metadata": {},
   "outputs": [],
   "source": [
    "btc_df = btc_df.reset_index()"
   ]
  },
  {
   "cell_type": "code",
   "execution_count": 79,
   "id": "f5a4281c",
   "metadata": {},
   "outputs": [
    {
     "data": {
      "text/html": [
       "<div>\n",
       "<style scoped>\n",
       "    .dataframe tbody tr th:only-of-type {\n",
       "        vertical-align: middle;\n",
       "    }\n",
       "\n",
       "    .dataframe tbody tr th {\n",
       "        vertical-align: top;\n",
       "    }\n",
       "\n",
       "    .dataframe thead th {\n",
       "        text-align: right;\n",
       "    }\n",
       "</style>\n",
       "<table border=\"1\" class=\"dataframe\">\n",
       "  <thead>\n",
       "    <tr style=\"text-align: right;\">\n",
       "      <th></th>\n",
       "      <th>date</th>\n",
       "      <th>open</th>\n",
       "      <th>high</th>\n",
       "      <th>low</th>\n",
       "      <th>close</th>\n",
       "      <th>sma</th>\n",
       "      <th>rsi</th>\n",
       "      <th>stochrsi</th>\n",
       "      <th>cci</th>\n",
       "      <th>sar</th>\n",
       "      <th>macd</th>\n",
       "      <th>signal</th>\n",
       "      <th>histogram</th>\n",
       "    </tr>\n",
       "  </thead>\n",
       "  <tbody>\n",
       "    <tr>\n",
       "      <th>0</th>\n",
       "      <td>2021-12-03 13:00:00</td>\n",
       "      <td>56869.60</td>\n",
       "      <td>58801.00</td>\n",
       "      <td>15000.00</td>\n",
       "      <td>56860.01</td>\n",
       "      <td>NaN</td>\n",
       "      <td>NaN</td>\n",
       "      <td>NaN</td>\n",
       "      <td>NaN</td>\n",
       "      <td>NaN</td>\n",
       "      <td>NaN</td>\n",
       "      <td>NaN</td>\n",
       "      <td>NaN</td>\n",
       "    </tr>\n",
       "    <tr>\n",
       "      <th>1</th>\n",
       "      <td>2021-12-03 14:00:00</td>\n",
       "      <td>56863.20</td>\n",
       "      <td>56926.68</td>\n",
       "      <td>25172.90</td>\n",
       "      <td>56239.13</td>\n",
       "      <td>NaN</td>\n",
       "      <td>NaN</td>\n",
       "      <td>NaN</td>\n",
       "      <td>NaN</td>\n",
       "      <td>15000.000000</td>\n",
       "      <td>NaN</td>\n",
       "      <td>NaN</td>\n",
       "      <td>NaN</td>\n",
       "    </tr>\n",
       "    <tr>\n",
       "      <th>2</th>\n",
       "      <td>2021-12-03 15:00:00</td>\n",
       "      <td>56193.15</td>\n",
       "      <td>56346.63</td>\n",
       "      <td>34727.40</td>\n",
       "      <td>55980.14</td>\n",
       "      <td>NaN</td>\n",
       "      <td>NaN</td>\n",
       "      <td>NaN</td>\n",
       "      <td>NaN</td>\n",
       "      <td>15838.533600</td>\n",
       "      <td>NaN</td>\n",
       "      <td>NaN</td>\n",
       "      <td>NaN</td>\n",
       "    </tr>\n",
       "    <tr>\n",
       "      <th>3</th>\n",
       "      <td>2021-12-03 16:00:00</td>\n",
       "      <td>55965.90</td>\n",
       "      <td>55965.91</td>\n",
       "      <td>22643.66</td>\n",
       "      <td>54979.99</td>\n",
       "      <td>NaN</td>\n",
       "      <td>NaN</td>\n",
       "      <td>NaN</td>\n",
       "      <td>NaN</td>\n",
       "      <td>16660.296528</td>\n",
       "      <td>NaN</td>\n",
       "      <td>NaN</td>\n",
       "      <td>NaN</td>\n",
       "    </tr>\n",
       "    <tr>\n",
       "      <th>4</th>\n",
       "      <td>2021-12-03 17:00:00</td>\n",
       "      <td>54990.24</td>\n",
       "      <td>55080.18</td>\n",
       "      <td>43000.80</td>\n",
       "      <td>54981.54</td>\n",
       "      <td>NaN</td>\n",
       "      <td>NaN</td>\n",
       "      <td>NaN</td>\n",
       "      <td>NaN</td>\n",
       "      <td>17465.624197</td>\n",
       "      <td>NaN</td>\n",
       "      <td>NaN</td>\n",
       "      <td>NaN</td>\n",
       "    </tr>\n",
       "    <tr>\n",
       "      <th>...</th>\n",
       "      <td>...</td>\n",
       "      <td>...</td>\n",
       "      <td>...</td>\n",
       "      <td>...</td>\n",
       "      <td>...</td>\n",
       "      <td>...</td>\n",
       "      <td>...</td>\n",
       "      <td>...</td>\n",
       "      <td>...</td>\n",
       "      <td>...</td>\n",
       "      <td>...</td>\n",
       "      <td>...</td>\n",
       "      <td>...</td>\n",
       "    </tr>\n",
       "    <tr>\n",
       "      <th>632</th>\n",
       "      <td>2021-12-29 21:00:00</td>\n",
       "      <td>47358.95</td>\n",
       "      <td>47502.57</td>\n",
       "      <td>36691.24</td>\n",
       "      <td>47208.52</td>\n",
       "      <td>47700.062333</td>\n",
       "      <td>39.938752</td>\n",
       "      <td>0.567213</td>\n",
       "      <td>-89.118954</td>\n",
       "      <td>150000.000000</td>\n",
       "      <td>-789.509302</td>\n",
       "      <td>-846.366085</td>\n",
       "      <td>56.856783</td>\n",
       "    </tr>\n",
       "    <tr>\n",
       "      <th>633</th>\n",
       "      <td>2021-12-29 22:00:00</td>\n",
       "      <td>47208.52</td>\n",
       "      <td>47562.18</td>\n",
       "      <td>36691.24</td>\n",
       "      <td>47274.45</td>\n",
       "      <td>47654.945333</td>\n",
       "      <td>41.173006</td>\n",
       "      <td>0.632504</td>\n",
       "      <td>-84.591837</td>\n",
       "      <td>147733.824800</td>\n",
       "      <td>-780.263875</td>\n",
       "      <td>-836.922912</td>\n",
       "      <td>56.659037</td>\n",
       "    </tr>\n",
       "    <tr>\n",
       "      <th>634</th>\n",
       "      <td>2021-12-29 23:00:00</td>\n",
       "      <td>47272.54</td>\n",
       "      <td>47371.70</td>\n",
       "      <td>46104.52</td>\n",
       "      <td>46466.49</td>\n",
       "      <td>47602.814000</td>\n",
       "      <td>32.388891</td>\n",
       "      <td>0.167834</td>\n",
       "      <td>-41.000094</td>\n",
       "      <td>145512.973104</td>\n",
       "      <td>-814.576715</td>\n",
       "      <td>-833.730598</td>\n",
       "      <td>19.153883</td>\n",
       "    </tr>\n",
       "    <tr>\n",
       "      <th>635</th>\n",
       "      <td>2021-12-30 00:00:00</td>\n",
       "      <td>46464.66</td>\n",
       "      <td>46796.96</td>\n",
       "      <td>45392.32</td>\n",
       "      <td>46692.67</td>\n",
       "      <td>47566.003000</td>\n",
       "      <td>36.474728</td>\n",
       "      <td>0.383971</td>\n",
       "      <td>-45.044464</td>\n",
       "      <td>143336.538442</td>\n",
       "      <td>-828.690764</td>\n",
       "      <td>-833.010622</td>\n",
       "      <td>4.319857</td>\n",
       "    </tr>\n",
       "    <tr>\n",
       "      <th>636</th>\n",
       "      <td>2021-12-30 01:00:00</td>\n",
       "      <td>46692.38</td>\n",
       "      <td>46729.02</td>\n",
       "      <td>46395.66</td>\n",
       "      <td>46530.53</td>\n",
       "      <td>47527.464667</td>\n",
       "      <td>34.848906</td>\n",
       "      <td>0.297966</td>\n",
       "      <td>-40.080339</td>\n",
       "      <td>141203.632473</td>\n",
       "      <td>-846.948297</td>\n",
       "      <td>-835.001718</td>\n",
       "      <td>-11.946578</td>\n",
       "    </tr>\n",
       "  </tbody>\n",
       "</table>\n",
       "<p>637 rows × 13 columns</p>\n",
       "</div>"
      ],
      "text/plain": [
       "                   date      open      high       low     close           sma  \\\n",
       "0   2021-12-03 13:00:00  56869.60  58801.00  15000.00  56860.01           NaN   \n",
       "1   2021-12-03 14:00:00  56863.20  56926.68  25172.90  56239.13           NaN   \n",
       "2   2021-12-03 15:00:00  56193.15  56346.63  34727.40  55980.14           NaN   \n",
       "3   2021-12-03 16:00:00  55965.90  55965.91  22643.66  54979.99           NaN   \n",
       "4   2021-12-03 17:00:00  54990.24  55080.18  43000.80  54981.54           NaN   \n",
       "..                  ...       ...       ...       ...       ...           ...   \n",
       "632 2021-12-29 21:00:00  47358.95  47502.57  36691.24  47208.52  47700.062333   \n",
       "633 2021-12-29 22:00:00  47208.52  47562.18  36691.24  47274.45  47654.945333   \n",
       "634 2021-12-29 23:00:00  47272.54  47371.70  46104.52  46466.49  47602.814000   \n",
       "635 2021-12-30 00:00:00  46464.66  46796.96  45392.32  46692.67  47566.003000   \n",
       "636 2021-12-30 01:00:00  46692.38  46729.02  46395.66  46530.53  47527.464667   \n",
       "\n",
       "           rsi  stochrsi        cci            sar        macd      signal  \\\n",
       "0          NaN       NaN        NaN            NaN         NaN         NaN   \n",
       "1          NaN       NaN        NaN   15000.000000         NaN         NaN   \n",
       "2          NaN       NaN        NaN   15838.533600         NaN         NaN   \n",
       "3          NaN       NaN        NaN   16660.296528         NaN         NaN   \n",
       "4          NaN       NaN        NaN   17465.624197         NaN         NaN   \n",
       "..         ...       ...        ...            ...         ...         ...   \n",
       "632  39.938752  0.567213 -89.118954  150000.000000 -789.509302 -846.366085   \n",
       "633  41.173006  0.632504 -84.591837  147733.824800 -780.263875 -836.922912   \n",
       "634  32.388891  0.167834 -41.000094  145512.973104 -814.576715 -833.730598   \n",
       "635  36.474728  0.383971 -45.044464  143336.538442 -828.690764 -833.010622   \n",
       "636  34.848906  0.297966 -40.080339  141203.632473 -846.948297 -835.001718   \n",
       "\n",
       "     histogram  \n",
       "0          NaN  \n",
       "1          NaN  \n",
       "2          NaN  \n",
       "3          NaN  \n",
       "4          NaN  \n",
       "..         ...  \n",
       "632  56.856783  \n",
       "633  56.659037  \n",
       "634  19.153883  \n",
       "635   4.319857  \n",
       "636 -11.946578  \n",
       "\n",
       "[637 rows x 13 columns]"
      ]
     },
     "execution_count": 79,
     "metadata": {},
     "output_type": "execute_result"
    }
   ],
   "source": [
    "btc_df"
   ]
  },
  {
   "cell_type": "code",
   "execution_count": 80,
   "id": "9720d81a",
   "metadata": {},
   "outputs": [
    {
     "name": "stdout",
     "output_type": "stream",
     "text": [
      "<class 'pandas.core.frame.DataFrame'>\n",
      "RangeIndex: 637 entries, 0 to 636\n",
      "Data columns (total 13 columns):\n",
      " #   Column     Non-Null Count  Dtype         \n",
      "---  ------     --------------  -----         \n",
      " 0   date       637 non-null    datetime64[ns]\n",
      " 1   open       637 non-null    float64       \n",
      " 2   high       637 non-null    float64       \n",
      " 3   low        637 non-null    float64       \n",
      " 4   close      637 non-null    float64       \n",
      " 5   sma        608 non-null    float64       \n",
      " 6   rsi        623 non-null    float64       \n",
      " 7   stochrsi   610 non-null    float64       \n",
      " 8   cci        618 non-null    float64       \n",
      " 9   sar        636 non-null    float64       \n",
      " 10  macd       588 non-null    float64       \n",
      " 11  signal     576 non-null    float64       \n",
      " 12  histogram  576 non-null    float64       \n",
      "dtypes: datetime64[ns](1), float64(12)\n",
      "memory usage: 64.8 KB\n"
     ]
    }
   ],
   "source": [
    "btc_df.info()"
   ]
  },
  {
   "cell_type": "code",
   "execution_count": 81,
   "id": "26a54c5e",
   "metadata": {},
   "outputs": [
    {
     "data": {
      "text/html": [
       "<div>\n",
       "<style scoped>\n",
       "    .dataframe tbody tr th:only-of-type {\n",
       "        vertical-align: middle;\n",
       "    }\n",
       "\n",
       "    .dataframe tbody tr th {\n",
       "        vertical-align: top;\n",
       "    }\n",
       "\n",
       "    .dataframe thead th {\n",
       "        text-align: right;\n",
       "    }\n",
       "</style>\n",
       "<table border=\"1\" class=\"dataframe\">\n",
       "  <thead>\n",
       "    <tr style=\"text-align: right;\">\n",
       "      <th></th>\n",
       "      <th>rsi</th>\n",
       "      <th>stochrsi</th>\n",
       "      <th>cci</th>\n",
       "      <th>sar</th>\n",
       "      <th>macd</th>\n",
       "      <th>signal</th>\n",
       "      <th>histogram</th>\n",
       "      <th>sma</th>\n",
       "    </tr>\n",
       "  </thead>\n",
       "  <tbody>\n",
       "    <tr>\n",
       "      <th>61</th>\n",
       "      <td>45.859844</td>\n",
       "      <td>0.692379</td>\n",
       "      <td>-30.548453</td>\n",
       "      <td>73330.423090</td>\n",
       "      <td>-722.103398</td>\n",
       "      <td>-886.466372</td>\n",
       "      <td>164.362974</td>\n",
       "      <td>49056.105000</td>\n",
       "    </tr>\n",
       "    <tr>\n",
       "      <th>62</th>\n",
       "      <td>48.000160</td>\n",
       "      <td>0.804625</td>\n",
       "      <td>-3.574990</td>\n",
       "      <td>72263.814629</td>\n",
       "      <td>-694.252968</td>\n",
       "      <td>-859.007314</td>\n",
       "      <td>164.754346</td>\n",
       "      <td>49066.899667</td>\n",
       "    </tr>\n",
       "    <tr>\n",
       "      <th>63</th>\n",
       "      <td>47.508775</td>\n",
       "      <td>0.778855</td>\n",
       "      <td>-6.830500</td>\n",
       "      <td>71218.538336</td>\n",
       "      <td>-669.523592</td>\n",
       "      <td>-831.938211</td>\n",
       "      <td>162.414619</td>\n",
       "      <td>49059.427000</td>\n",
       "    </tr>\n",
       "    <tr>\n",
       "      <th>64</th>\n",
       "      <td>43.632925</td>\n",
       "      <td>0.301310</td>\n",
       "      <td>20.617102</td>\n",
       "      <td>70194.167569</td>\n",
       "      <td>-662.232142</td>\n",
       "      <td>-807.694487</td>\n",
       "      <td>145.462345</td>\n",
       "      <td>49043.269000</td>\n",
       "    </tr>\n",
       "    <tr>\n",
       "      <th>65</th>\n",
       "      <td>37.725476</td>\n",
       "      <td>0.000000</td>\n",
       "      <td>-45.248749</td>\n",
       "      <td>69190.284218</td>\n",
       "      <td>-683.195850</td>\n",
       "      <td>-789.908967</td>\n",
       "      <td>106.713117</td>\n",
       "      <td>49016.738333</td>\n",
       "    </tr>\n",
       "    <tr>\n",
       "      <th>...</th>\n",
       "      <td>...</td>\n",
       "      <td>...</td>\n",
       "      <td>...</td>\n",
       "      <td>...</td>\n",
       "      <td>...</td>\n",
       "      <td>...</td>\n",
       "      <td>...</td>\n",
       "      <td>...</td>\n",
       "    </tr>\n",
       "    <tr>\n",
       "      <th>632</th>\n",
       "      <td>39.938752</td>\n",
       "      <td>0.567213</td>\n",
       "      <td>-89.118954</td>\n",
       "      <td>150000.000000</td>\n",
       "      <td>-789.509302</td>\n",
       "      <td>-846.366085</td>\n",
       "      <td>56.856783</td>\n",
       "      <td>47700.062333</td>\n",
       "    </tr>\n",
       "    <tr>\n",
       "      <th>633</th>\n",
       "      <td>41.173006</td>\n",
       "      <td>0.632504</td>\n",
       "      <td>-84.591837</td>\n",
       "      <td>147733.824800</td>\n",
       "      <td>-780.263875</td>\n",
       "      <td>-836.922912</td>\n",
       "      <td>56.659037</td>\n",
       "      <td>47654.945333</td>\n",
       "    </tr>\n",
       "    <tr>\n",
       "      <th>634</th>\n",
       "      <td>32.388891</td>\n",
       "      <td>0.167834</td>\n",
       "      <td>-41.000094</td>\n",
       "      <td>145512.973104</td>\n",
       "      <td>-814.576715</td>\n",
       "      <td>-833.730598</td>\n",
       "      <td>19.153883</td>\n",
       "      <td>47602.814000</td>\n",
       "    </tr>\n",
       "    <tr>\n",
       "      <th>635</th>\n",
       "      <td>36.474728</td>\n",
       "      <td>0.383971</td>\n",
       "      <td>-45.044464</td>\n",
       "      <td>143336.538442</td>\n",
       "      <td>-828.690764</td>\n",
       "      <td>-833.010622</td>\n",
       "      <td>4.319857</td>\n",
       "      <td>47566.003000</td>\n",
       "    </tr>\n",
       "    <tr>\n",
       "      <th>636</th>\n",
       "      <td>34.848906</td>\n",
       "      <td>0.297966</td>\n",
       "      <td>-40.080339</td>\n",
       "      <td>141203.632473</td>\n",
       "      <td>-846.948297</td>\n",
       "      <td>-835.001718</td>\n",
       "      <td>-11.946578</td>\n",
       "      <td>47527.464667</td>\n",
       "    </tr>\n",
       "  </tbody>\n",
       "</table>\n",
       "<p>576 rows × 8 columns</p>\n",
       "</div>"
      ],
      "text/plain": [
       "           rsi  stochrsi        cci            sar        macd      signal  \\\n",
       "61   45.859844  0.692379 -30.548453   73330.423090 -722.103398 -886.466372   \n",
       "62   48.000160  0.804625  -3.574990   72263.814629 -694.252968 -859.007314   \n",
       "63   47.508775  0.778855  -6.830500   71218.538336 -669.523592 -831.938211   \n",
       "64   43.632925  0.301310  20.617102   70194.167569 -662.232142 -807.694487   \n",
       "65   37.725476  0.000000 -45.248749   69190.284218 -683.195850 -789.908967   \n",
       "..         ...       ...        ...            ...         ...         ...   \n",
       "632  39.938752  0.567213 -89.118954  150000.000000 -789.509302 -846.366085   \n",
       "633  41.173006  0.632504 -84.591837  147733.824800 -780.263875 -836.922912   \n",
       "634  32.388891  0.167834 -41.000094  145512.973104 -814.576715 -833.730598   \n",
       "635  36.474728  0.383971 -45.044464  143336.538442 -828.690764 -833.010622   \n",
       "636  34.848906  0.297966 -40.080339  141203.632473 -846.948297 -835.001718   \n",
       "\n",
       "      histogram           sma  \n",
       "61   164.362974  49056.105000  \n",
       "62   164.754346  49066.899667  \n",
       "63   162.414619  49059.427000  \n",
       "64   145.462345  49043.269000  \n",
       "65   106.713117  49016.738333  \n",
       "..          ...           ...  \n",
       "632   56.856783  47700.062333  \n",
       "633   56.659037  47654.945333  \n",
       "634   19.153883  47602.814000  \n",
       "635    4.319857  47566.003000  \n",
       "636  -11.946578  47527.464667  \n",
       "\n",
       "[576 rows x 8 columns]"
      ]
     },
     "execution_count": 81,
     "metadata": {},
     "output_type": "execute_result"
    }
   ],
   "source": [
    "feature = [\"rsi\", \"stochrsi\", \"cci\", \"sar\", \"macd\", \"signal\", \"histogram\", \"sma\"]\n",
    "# feature = [\"rsi\", \"stochrsi\", \"cci\", \"sar\"]\n",
    "# feature = [\"rsi\", \"stochrsi\", \"sar\"]\n",
    "data_X = btc_df[feature].iloc[61: ]  # 61 là nơi mà Nan của các chỉ báo.\n",
    "                                #Sẽ cải tiến cho trường hợp tổng quát sau.\n",
    "data_X"
   ]
  },
  {
   "cell_type": "markdown",
   "id": "f3a1200e",
   "metadata": {},
   "source": [
    "## Chia dữ liệu thành Train, Test"
   ]
  },
  {
   "cell_type": "markdown",
   "id": "ea9bb97c",
   "metadata": {},
   "source": [
    "## X"
   ]
  },
  {
   "cell_type": "code",
   "execution_count": 82,
   "id": "8e5856e7",
   "metadata": {},
   "outputs": [
    {
     "name": "stdout",
     "output_type": "stream",
     "text": [
      "(576, 8)\n"
     ]
    }
   ],
   "source": [
    "data_X = data_X.reset_index(drop = True)\n",
    "print(data_X.shape)\n",
    "# len_data\n",
    "len_data_train = int(len(data_X)*0.90) # lấy 90% dữ liệu để train\n",
    "\n",
    "\n",
    "#X_test,  X_train\n",
    "data_X_train = data_X.iloc[:len_data_train , :]\n",
    "data_X_test = data_X.iloc[len_data_train : , : ]\n"
   ]
  },
  {
   "cell_type": "code",
   "execution_count": 83,
   "id": "360457c8",
   "metadata": {},
   "outputs": [
    {
     "data": {
      "text/html": [
       "<div>\n",
       "<style scoped>\n",
       "    .dataframe tbody tr th:only-of-type {\n",
       "        vertical-align: middle;\n",
       "    }\n",
       "\n",
       "    .dataframe tbody tr th {\n",
       "        vertical-align: top;\n",
       "    }\n",
       "\n",
       "    .dataframe thead th {\n",
       "        text-align: right;\n",
       "    }\n",
       "</style>\n",
       "<table border=\"1\" class=\"dataframe\">\n",
       "  <thead>\n",
       "    <tr style=\"text-align: right;\">\n",
       "      <th></th>\n",
       "      <th>rsi</th>\n",
       "      <th>stochrsi</th>\n",
       "      <th>cci</th>\n",
       "      <th>sar</th>\n",
       "      <th>macd</th>\n",
       "      <th>signal</th>\n",
       "      <th>histogram</th>\n",
       "      <th>sma</th>\n",
       "    </tr>\n",
       "  </thead>\n",
       "  <tbody>\n",
       "    <tr>\n",
       "      <th>0</th>\n",
       "      <td>45.859844</td>\n",
       "      <td>0.692379</td>\n",
       "      <td>-30.548453</td>\n",
       "      <td>73330.423090</td>\n",
       "      <td>-722.103398</td>\n",
       "      <td>-886.466372</td>\n",
       "      <td>164.362974</td>\n",
       "      <td>49056.105000</td>\n",
       "    </tr>\n",
       "    <tr>\n",
       "      <th>1</th>\n",
       "      <td>48.000160</td>\n",
       "      <td>0.804625</td>\n",
       "      <td>-3.574990</td>\n",
       "      <td>72263.814629</td>\n",
       "      <td>-694.252968</td>\n",
       "      <td>-859.007314</td>\n",
       "      <td>164.754346</td>\n",
       "      <td>49066.899667</td>\n",
       "    </tr>\n",
       "    <tr>\n",
       "      <th>2</th>\n",
       "      <td>47.508775</td>\n",
       "      <td>0.778855</td>\n",
       "      <td>-6.830500</td>\n",
       "      <td>71218.538336</td>\n",
       "      <td>-669.523592</td>\n",
       "      <td>-831.938211</td>\n",
       "      <td>162.414619</td>\n",
       "      <td>49059.427000</td>\n",
       "    </tr>\n",
       "    <tr>\n",
       "      <th>3</th>\n",
       "      <td>43.632925</td>\n",
       "      <td>0.301310</td>\n",
       "      <td>20.617102</td>\n",
       "      <td>70194.167569</td>\n",
       "      <td>-662.232142</td>\n",
       "      <td>-807.694487</td>\n",
       "      <td>145.462345</td>\n",
       "      <td>49043.269000</td>\n",
       "    </tr>\n",
       "    <tr>\n",
       "      <th>4</th>\n",
       "      <td>37.725476</td>\n",
       "      <td>0.000000</td>\n",
       "      <td>-45.248749</td>\n",
       "      <td>69190.284218</td>\n",
       "      <td>-683.195850</td>\n",
       "      <td>-789.908967</td>\n",
       "      <td>106.713117</td>\n",
       "      <td>49016.738333</td>\n",
       "    </tr>\n",
       "  </tbody>\n",
       "</table>\n",
       "</div>"
      ],
      "text/plain": [
       "         rsi  stochrsi        cci           sar        macd      signal  \\\n",
       "0  45.859844  0.692379 -30.548453  73330.423090 -722.103398 -886.466372   \n",
       "1  48.000160  0.804625  -3.574990  72263.814629 -694.252968 -859.007314   \n",
       "2  47.508775  0.778855  -6.830500  71218.538336 -669.523592 -831.938211   \n",
       "3  43.632925  0.301310  20.617102  70194.167569 -662.232142 -807.694487   \n",
       "4  37.725476  0.000000 -45.248749  69190.284218 -683.195850 -789.908967   \n",
       "\n",
       "    histogram           sma  \n",
       "0  164.362974  49056.105000  \n",
       "1  164.754346  49066.899667  \n",
       "2  162.414619  49059.427000  \n",
       "3  145.462345  49043.269000  \n",
       "4  106.713117  49016.738333  "
      ]
     },
     "execution_count": 83,
     "metadata": {},
     "output_type": "execute_result"
    }
   ],
   "source": [
    "data_X_train.head()"
   ]
  },
  {
   "cell_type": "code",
   "execution_count": 84,
   "id": "4a1659fd",
   "metadata": {
    "scrolled": true
   },
   "outputs": [
    {
     "data": {
      "text/plain": [
       "(518, 8)"
      ]
     },
     "execution_count": 84,
     "metadata": {},
     "output_type": "execute_result"
    }
   ],
   "source": [
    "data_X_train.shape"
   ]
  },
  {
   "cell_type": "code",
   "execution_count": 85,
   "id": "691b263c",
   "metadata": {},
   "outputs": [
    {
     "data": {
      "text/plain": [
       "(58, 8)"
      ]
     },
     "execution_count": 85,
     "metadata": {},
     "output_type": "execute_result"
    }
   ],
   "source": [
    "data_X_test.shape"
   ]
  },
  {
   "cell_type": "markdown",
   "id": "3aaa9f14",
   "metadata": {},
   "source": [
    "## Y"
   ]
  },
  {
   "cell_type": "code",
   "execution_count": 86,
   "id": "a4bf8f34",
   "metadata": {},
   "outputs": [
    {
     "data": {
      "text/plain": [
       "61     48866.13\n",
       "62     49018.47\n",
       "63     48981.46\n",
       "64     48683.26\n",
       "65     48151.77\n",
       "         ...   \n",
       "632    47208.52\n",
       "633    47274.45\n",
       "634    46466.49\n",
       "635    46692.67\n",
       "636    46530.53\n",
       "Name: close, Length: 576, dtype: float64"
      ]
     },
     "execution_count": 86,
     "metadata": {},
     "output_type": "execute_result"
    }
   ],
   "source": [
    "data_Y = btc_df[\"close\"].iloc[61: ] \n",
    "data_Y"
   ]
  },
  {
   "cell_type": "code",
   "execution_count": 87,
   "id": "adc8c785",
   "metadata": {},
   "outputs": [],
   "source": [
    "#data_Y\n",
    "data_Y_train = data_Y.iloc[1 : len_data_train +1] # cần dự đoán cho giá của phiên sau nên + 1\n",
    "data_Y_test = data_Y.iloc[len_data_train + 1 : ]"
   ]
  },
  {
   "cell_type": "code",
   "execution_count": 88,
   "id": "430c69d2",
   "metadata": {},
   "outputs": [
    {
     "data": {
      "text/plain": [
       "(518,)"
      ]
     },
     "execution_count": 88,
     "metadata": {},
     "output_type": "execute_result"
    }
   ],
   "source": [
    "data_Y_train.shape"
   ]
  },
  {
   "cell_type": "code",
   "execution_count": 89,
   "id": "cacb0d9a",
   "metadata": {},
   "outputs": [
    {
     "data": {
      "text/plain": [
       "(57,)"
      ]
     },
     "execution_count": 89,
     "metadata": {},
     "output_type": "execute_result"
    }
   ],
   "source": [
    "data_Y_test.shape"
   ]
  },
  {
   "cell_type": "markdown",
   "id": "2abfa79c",
   "metadata": {},
   "source": [
    "## Date time"
   ]
  },
  {
   "cell_type": "code",
   "execution_count": 90,
   "id": "0e5321c8",
   "metadata": {},
   "outputs": [],
   "source": [
    "\n",
    "data_DateTime = btc_df[\"date\"].iloc[61:] # 61 là nơi mà không còn giá trị null của các chỉ báo.\n",
    "                                #Sẽ cải tiến cho trường hợp tổng quát sau.\n"
   ]
  },
  {
   "cell_type": "code",
   "execution_count": 91,
   "id": "ea049192",
   "metadata": {},
   "outputs": [
    {
     "data": {
      "text/plain": [
       "61    2021-12-06 02:00:00\n",
       "62    2021-12-06 03:00:00\n",
       "63    2021-12-06 04:00:00\n",
       "64    2021-12-06 05:00:00\n",
       "65    2021-12-06 06:00:00\n",
       "              ...        \n",
       "632   2021-12-29 21:00:00\n",
       "633   2021-12-29 22:00:00\n",
       "634   2021-12-29 23:00:00\n",
       "635   2021-12-30 00:00:00\n",
       "636   2021-12-30 01:00:00\n",
       "Name: date, Length: 576, dtype: datetime64[ns]"
      ]
     },
     "execution_count": 91,
     "metadata": {},
     "output_type": "execute_result"
    }
   ],
   "source": [
    "data_DateTime"
   ]
  },
  {
   "cell_type": "code",
   "execution_count": 92,
   "id": "dfb96948",
   "metadata": {},
   "outputs": [],
   "source": [
    "# len_data\n",
    "len_data_train = int(len(data_X)*0.90) # lấy 90% dữ liệu để train\n",
    "\n",
    "\n",
    "data_DateTime_train = data_DateTime.iloc[:len_data_train ]\n",
    "data_DateTime_test = data_DateTime.iloc[len_data_train :  ]\n"
   ]
  },
  {
   "cell_type": "code",
   "execution_count": 93,
   "id": "7ac836f4",
   "metadata": {},
   "outputs": [
    {
     "data": {
      "text/plain": [
       "(518,)"
      ]
     },
     "execution_count": 93,
     "metadata": {},
     "output_type": "execute_result"
    }
   ],
   "source": [
    "data_DateTime_train.shape"
   ]
  },
  {
   "cell_type": "code",
   "execution_count": 94,
   "id": "632b6fd7",
   "metadata": {},
   "outputs": [
    {
     "data": {
      "text/plain": [
       "(58,)"
      ]
     },
     "execution_count": 94,
     "metadata": {},
     "output_type": "execute_result"
    }
   ],
   "source": [
    "data_DateTime_test.shape"
   ]
  },
  {
   "cell_type": "markdown",
   "id": "d0cacc03",
   "metadata": {},
   "source": [
    "# Reset Index"
   ]
  },
  {
   "cell_type": "code",
   "execution_count": 95,
   "id": "10b6c3f3",
   "metadata": {},
   "outputs": [],
   "source": [
    "data_X_train = data_X_train.reset_index(drop = True)\n",
    "data_X_test = data_X_test.reset_index(drop = True)\n",
    "data_Y_train = data_Y_train.reset_index(drop = True)\n",
    "data_Y_test = data_Y_test.reset_index(drop = True)\n",
    "data_DateTime_train = data_DateTime_train.reset_index(drop = True)\n",
    "data_DateTime_test = data_DateTime_test.reset_index(drop = True)"
   ]
  },
  {
   "cell_type": "code",
   "execution_count": 96,
   "id": "1c00ccc2",
   "metadata": {},
   "outputs": [
    {
     "data": {
      "text/html": [
       "<div>\n",
       "<style scoped>\n",
       "    .dataframe tbody tr th:only-of-type {\n",
       "        vertical-align: middle;\n",
       "    }\n",
       "\n",
       "    .dataframe tbody tr th {\n",
       "        vertical-align: top;\n",
       "    }\n",
       "\n",
       "    .dataframe thead th {\n",
       "        text-align: right;\n",
       "    }\n",
       "</style>\n",
       "<table border=\"1\" class=\"dataframe\">\n",
       "  <thead>\n",
       "    <tr style=\"text-align: right;\">\n",
       "      <th></th>\n",
       "      <th>rsi</th>\n",
       "      <th>stochrsi</th>\n",
       "      <th>cci</th>\n",
       "      <th>sar</th>\n",
       "      <th>macd</th>\n",
       "      <th>signal</th>\n",
       "      <th>histogram</th>\n",
       "      <th>sma</th>\n",
       "    </tr>\n",
       "  </thead>\n",
       "  <tbody>\n",
       "    <tr>\n",
       "      <th>0</th>\n",
       "      <td>45.859844</td>\n",
       "      <td>0.692379</td>\n",
       "      <td>-30.548453</td>\n",
       "      <td>73330.423090</td>\n",
       "      <td>-722.103398</td>\n",
       "      <td>-886.466372</td>\n",
       "      <td>164.362974</td>\n",
       "      <td>49056.105000</td>\n",
       "    </tr>\n",
       "    <tr>\n",
       "      <th>1</th>\n",
       "      <td>48.000160</td>\n",
       "      <td>0.804625</td>\n",
       "      <td>-3.574990</td>\n",
       "      <td>72263.814629</td>\n",
       "      <td>-694.252968</td>\n",
       "      <td>-859.007314</td>\n",
       "      <td>164.754346</td>\n",
       "      <td>49066.899667</td>\n",
       "    </tr>\n",
       "    <tr>\n",
       "      <th>2</th>\n",
       "      <td>47.508775</td>\n",
       "      <td>0.778855</td>\n",
       "      <td>-6.830500</td>\n",
       "      <td>71218.538336</td>\n",
       "      <td>-669.523592</td>\n",
       "      <td>-831.938211</td>\n",
       "      <td>162.414619</td>\n",
       "      <td>49059.427000</td>\n",
       "    </tr>\n",
       "    <tr>\n",
       "      <th>3</th>\n",
       "      <td>43.632925</td>\n",
       "      <td>0.301310</td>\n",
       "      <td>20.617102</td>\n",
       "      <td>70194.167569</td>\n",
       "      <td>-662.232142</td>\n",
       "      <td>-807.694487</td>\n",
       "      <td>145.462345</td>\n",
       "      <td>49043.269000</td>\n",
       "    </tr>\n",
       "    <tr>\n",
       "      <th>4</th>\n",
       "      <td>37.725476</td>\n",
       "      <td>0.000000</td>\n",
       "      <td>-45.248749</td>\n",
       "      <td>69190.284218</td>\n",
       "      <td>-683.195850</td>\n",
       "      <td>-789.908967</td>\n",
       "      <td>106.713117</td>\n",
       "      <td>49016.738333</td>\n",
       "    </tr>\n",
       "  </tbody>\n",
       "</table>\n",
       "</div>"
      ],
      "text/plain": [
       "         rsi  stochrsi        cci           sar        macd      signal  \\\n",
       "0  45.859844  0.692379 -30.548453  73330.423090 -722.103398 -886.466372   \n",
       "1  48.000160  0.804625  -3.574990  72263.814629 -694.252968 -859.007314   \n",
       "2  47.508775  0.778855  -6.830500  71218.538336 -669.523592 -831.938211   \n",
       "3  43.632925  0.301310  20.617102  70194.167569 -662.232142 -807.694487   \n",
       "4  37.725476  0.000000 -45.248749  69190.284218 -683.195850 -789.908967   \n",
       "\n",
       "    histogram           sma  \n",
       "0  164.362974  49056.105000  \n",
       "1  164.754346  49066.899667  \n",
       "2  162.414619  49059.427000  \n",
       "3  145.462345  49043.269000  \n",
       "4  106.713117  49016.738333  "
      ]
     },
     "execution_count": 96,
     "metadata": {},
     "output_type": "execute_result"
    }
   ],
   "source": [
    "data_X_train.head()\n"
   ]
  },
  {
   "cell_type": "code",
   "execution_count": 97,
   "id": "75636f1e",
   "metadata": {},
   "outputs": [],
   "source": [
    "## add constant cho data_X_test\n",
    "data_X_test = sm.add_constant(data_X_test)"
   ]
  },
  {
   "cell_type": "code",
   "execution_count": 98,
   "id": "1ad4a2cb",
   "metadata": {},
   "outputs": [
    {
     "data": {
      "text/html": [
       "<div>\n",
       "<style scoped>\n",
       "    .dataframe tbody tr th:only-of-type {\n",
       "        vertical-align: middle;\n",
       "    }\n",
       "\n",
       "    .dataframe tbody tr th {\n",
       "        vertical-align: top;\n",
       "    }\n",
       "\n",
       "    .dataframe thead th {\n",
       "        text-align: right;\n",
       "    }\n",
       "</style>\n",
       "<table border=\"1\" class=\"dataframe\">\n",
       "  <thead>\n",
       "    <tr style=\"text-align: right;\">\n",
       "      <th></th>\n",
       "      <th>const</th>\n",
       "      <th>rsi</th>\n",
       "      <th>stochrsi</th>\n",
       "      <th>cci</th>\n",
       "      <th>sar</th>\n",
       "      <th>macd</th>\n",
       "      <th>signal</th>\n",
       "      <th>histogram</th>\n",
       "      <th>sma</th>\n",
       "    </tr>\n",
       "  </thead>\n",
       "  <tbody>\n",
       "    <tr>\n",
       "      <th>0</th>\n",
       "      <td>1.0</td>\n",
       "      <td>49.698033</td>\n",
       "      <td>0.532135</td>\n",
       "      <td>-57.302486</td>\n",
       "      <td>92075.546634</td>\n",
       "      <td>247.610710</td>\n",
       "      <td>388.437524</td>\n",
       "      <td>-140.826813</td>\n",
       "      <td>51637.037667</td>\n",
       "    </tr>\n",
       "    <tr>\n",
       "      <th>1</th>\n",
       "      <td>1.0</td>\n",
       "      <td>51.491370</td>\n",
       "      <td>0.629016</td>\n",
       "      <td>-46.750355</td>\n",
       "      <td>89507.211436</td>\n",
       "      <td>254.339315</td>\n",
       "      <td>369.280637</td>\n",
       "      <td>-114.941322</td>\n",
       "      <td>51706.855000</td>\n",
       "    </tr>\n",
       "    <tr>\n",
       "      <th>2</th>\n",
       "      <td>1.0</td>\n",
       "      <td>50.664822</td>\n",
       "      <td>0.659850</td>\n",
       "      <td>-45.711288</td>\n",
       "      <td>87092.976350</td>\n",
       "      <td>249.998674</td>\n",
       "      <td>352.240356</td>\n",
       "      <td>-102.241683</td>\n",
       "      <td>51771.174667</td>\n",
       "    </tr>\n",
       "    <tr>\n",
       "      <th>3</th>\n",
       "      <td>1.0</td>\n",
       "      <td>48.254841</td>\n",
       "      <td>0.524861</td>\n",
       "      <td>-52.570221</td>\n",
       "      <td>84823.595369</td>\n",
       "      <td>218.597617</td>\n",
       "      <td>333.148536</td>\n",
       "      <td>-114.550919</td>\n",
       "      <td>51778.435000</td>\n",
       "    </tr>\n",
       "    <tr>\n",
       "      <th>4</th>\n",
       "      <td>1.0</td>\n",
       "      <td>48.351955</td>\n",
       "      <td>0.530301</td>\n",
       "      <td>-54.765764</td>\n",
       "      <td>82690.377247</td>\n",
       "      <td>191.464682</td>\n",
       "      <td>312.907986</td>\n",
       "      <td>-121.443304</td>\n",
       "      <td>51823.043000</td>\n",
       "    </tr>\n",
       "  </tbody>\n",
       "</table>\n",
       "</div>"
      ],
      "text/plain": [
       "   const        rsi  stochrsi        cci           sar        macd  \\\n",
       "0    1.0  49.698033  0.532135 -57.302486  92075.546634  247.610710   \n",
       "1    1.0  51.491370  0.629016 -46.750355  89507.211436  254.339315   \n",
       "2    1.0  50.664822  0.659850 -45.711288  87092.976350  249.998674   \n",
       "3    1.0  48.254841  0.524861 -52.570221  84823.595369  218.597617   \n",
       "4    1.0  48.351955  0.530301 -54.765764  82690.377247  191.464682   \n",
       "\n",
       "       signal   histogram           sma  \n",
       "0  388.437524 -140.826813  51637.037667  \n",
       "1  369.280637 -114.941322  51706.855000  \n",
       "2  352.240356 -102.241683  51771.174667  \n",
       "3  333.148536 -114.550919  51778.435000  \n",
       "4  312.907986 -121.443304  51823.043000  "
      ]
     },
     "execution_count": 98,
     "metadata": {},
     "output_type": "execute_result"
    }
   ],
   "source": [
    "data_X_test.head()"
   ]
  },
  {
   "cell_type": "code",
   "execution_count": 99,
   "id": "31acfc28",
   "metadata": {},
   "outputs": [
    {
     "data": {
      "text/plain": [
       "(518,)"
      ]
     },
     "execution_count": 99,
     "metadata": {},
     "output_type": "execute_result"
    }
   ],
   "source": [
    "data_Y_train.shape"
   ]
  },
  {
   "cell_type": "markdown",
   "id": "b4a664d5",
   "metadata": {},
   "source": [
    "# Train mô hình OLS"
   ]
  },
  {
   "cell_type": "code",
   "execution_count": 100,
   "id": "e1f0781f",
   "metadata": {},
   "outputs": [
    {
     "name": "stdout",
     "output_type": "stream",
     "text": [
      "                            OLS Regression Results                            \n",
      "==============================================================================\n",
      "Dep. Variable:                  close   R-squared:                       0.912\n",
      "Model:                            OLS   Adj. R-squared:                  0.911\n",
      "Method:                 Least Squares   F-statistic:                     755.2\n",
      "Date:                Thu, 06 Jan 2022   Prob (F-statistic):          1.69e-264\n",
      "Time:                        07:29:47   Log-Likelihood:                -3937.3\n",
      "No. Observations:                 518   AIC:                             7891.\n",
      "Df Residuals:                     510   BIC:                             7925.\n",
      "Df Model:                           7                                         \n",
      "Covariance Type:            nonrobust                                         \n",
      "==============================================================================\n",
      "                 coef    std err          t      P>|t|      [0.025      0.975]\n",
      "------------------------------------------------------------------------------\n",
      "const      -1670.3718   1188.761     -1.405      0.161   -4005.844     665.100\n",
      "rsi           43.6639      6.654      6.562      0.000      30.590      56.737\n",
      "stochrsi      72.6051    117.645      0.617      0.537    -158.524     303.734\n",
      "cci            0.1120      0.211      0.530      0.596      -0.303       0.527\n",
      "sar            0.0014      0.001      2.387      0.017       0.000       0.003\n",
      "macd           0.9590      0.136      7.050      0.000       0.692       1.226\n",
      "signal        -0.7410      0.085     -8.711      0.000      -0.908      -0.574\n",
      "histogram      1.7000      0.188      9.023      0.000       1.330       2.070\n",
      "sma            0.9869      0.023     43.300      0.000       0.942       1.032\n",
      "==============================================================================\n",
      "Omnibus:                      286.652   Durbin-Watson:                   1.758\n",
      "Prob(Omnibus):                  0.000   Jarque-Bera (JB):             7654.517\n",
      "Skew:                           1.867   Prob(JB):                         0.00\n",
      "Kurtosis:                      21.458   Cond. No.                     1.79e+18\n",
      "==============================================================================\n",
      "\n",
      "Notes:\n",
      "[1] Standard Errors assume that the covariance matrix of the errors is correctly specified.\n",
      "[2] The smallest eigenvalue is 1.32e-24. This might indicate that there are\n",
      "strong multicollinearity problems or that the design matrix is singular.\n"
     ]
    }
   ],
   "source": [
    "import statsmodels.api as sm\n",
    "data_X_train = data_X_train\n",
    "data_X_train = sm.add_constant(data_X_train)\n",
    "data_Y_train = data_Y_train\n",
    "\n",
    "\n",
    "model0 = sm.OLS(data_Y_train, data_X_train).fit()\n",
    "model0.params\n",
    "print(model0.summary())\n",
    "\n",
    "# chưa vét cạn được các biến"
   ]
  },
  {
   "cell_type": "markdown",
   "id": "775724a8",
   "metadata": {},
   "source": [
    "# Sklearn"
   ]
  },
  {
   "cell_type": "code",
   "execution_count": 101,
   "id": "aff8cae5",
   "metadata": {},
   "outputs": [
    {
     "data": {
      "text/plain": [
       "LinearRegression()"
      ]
     },
     "execution_count": 101,
     "metadata": {},
     "output_type": "execute_result"
    }
   ],
   "source": [
    "lr = linear_model.LinearRegression()\n",
    "lr.fit(data_X_train, data_Y_train)\n",
    "\n"
   ]
  },
  {
   "cell_type": "code",
   "execution_count": 102,
   "id": "5e907c60",
   "metadata": {},
   "outputs": [
    {
     "name": "stdout",
     "output_type": "stream",
     "text": [
      "58\n"
     ]
    }
   ],
   "source": [
    "BTC_predict = lr.predict(data_X_test)\n",
    "print(len(BTC_predict))"
   ]
  },
  {
   "cell_type": "code",
   "execution_count": 103,
   "id": "a5392e14",
   "metadata": {},
   "outputs": [
    {
     "data": {
      "text/plain": [
       "array([51332.11332885, 51548.64941792, 51605.11726395, 51456.46135131,\n",
       "       51479.19393633, 51362.18741396, 51389.17157845, 51260.02039761,\n",
       "       51080.83982781, 50653.8165589 , 50388.42396023, 50330.16830906,\n",
       "       49898.55052084, 49803.47979585, 49655.2201836 , 49527.79556347,\n",
       "       49515.04629357, 49244.25391916, 49123.38461171, 49170.34027728,\n",
       "       49105.68482033, 49102.31416389, 49061.2087068 , 48962.66431717,\n",
       "       48741.00450541, 48377.53201609, 48134.71028814, 47931.5423266 ,\n",
       "       47905.52455913, 47680.55108364, 47711.20455089, 47525.26298155,\n",
       "       47692.54543729, 47633.52808931, 47865.59311994, 47865.87013804,\n",
       "       47672.40690586, 47771.41778284, 47708.60883792, 47546.40264365,\n",
       "       47618.89909934, 47844.17596898, 47653.94877801, 47679.06328155,\n",
       "       47082.12614201, 47567.31607538, 47878.65032663, 48000.90948041,\n",
       "       47835.05758633, 47697.92836522, 47623.50952474, 47305.9421989 ,\n",
       "       47372.25808044, 47355.72361217, 47368.742043  , 46802.79155768,\n",
       "       46917.81489391, 46756.47221133])"
      ]
     },
     "execution_count": 103,
     "metadata": {},
     "output_type": "execute_result"
    }
   ],
   "source": [
    "BTC_predict"
   ]
  },
  {
   "cell_type": "code",
   "execution_count": 104,
   "id": "a17fb3a1",
   "metadata": {},
   "outputs": [
    {
     "data": {
      "image/png": "[encoded data removed]",
      "text/plain": [
       "<Figure size 864x576 with 1 Axes>"
      ]
     },
     "metadata": {
      "needs_background": "light"
     },
     "output_type": "display_data"
    }
   ],
   "source": [
    "\n",
    "fig, ax = plt.subplots(figsize = (12, 8))\n",
    "ax.plot(BTC_predict, label = \"BTC Predict\");\n",
    "ax.plot(data_Y_test, label = \"BTC real\");\n",
    "ax.set(xlabel = \"DateTime\", ylabel = \"Price\", title = \"BTC char price\") # chưa thêm lại\n",
    "ax.legend();"
   ]
  },
  {
   "cell_type": "code",
   "execution_count": null,
   "id": "f5d0f004",
   "metadata": {},
   "outputs": [],
   "source": []
  },
  {
   "cell_type": "code",
   "execution_count": null,
   "id": "250a02e6",
   "metadata": {},
   "outputs": [],
   "source": []
  }
 ],
 "metadata": {
  "kernelspec": {
   "display_name": "Python 3",
   "language": "python",
   "name": "python3"
  },
  "language_info": {
   "codemirror_mode": {
    "name": "ipython",
    "version": 3
   },
   "file_extension": ".py",
   "mimetype": "text/x-python",
   "name": "python",
   "nbconvert_exporter": "python",
   "pygments_lexer": "ipython3",
   "version": "3.8.8"
  }
 },
 "nbformat": 4,
 "nbformat_minor": 5
}
